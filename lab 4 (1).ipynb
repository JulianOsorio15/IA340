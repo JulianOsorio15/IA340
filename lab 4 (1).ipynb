{
 "cells": [
  {
   "cell_type": "markdown",
   "id": "f2c8df89",
   "metadata": {},
   "source": [
    "# import libraries"
   ]
  },
  {
   "cell_type": "code",
   "execution_count": 3,
   "id": "eb0c8ff8",
   "metadata": {},
   "outputs": [],
   "source": [
    "import pandas\n",
    "import configparser\n",
    "import psycopg2"
   ]
  },
  {
   "cell_type": "markdown",
   "id": "7430ec8a",
   "metadata": {},
   "source": [
    "# connect to database"
   ]
  },
  {
   "cell_type": "code",
   "execution_count": 4,
   "id": "87d15e90",
   "metadata": {},
   "outputs": [],
   "source": [
    "config = configparser.ConfigParser()\n",
    "config.read('config.ini')\n",
    "\n",
    "host=config['myaws']['host']\n",
    "db=config['myaws']['db']\n",
    "user=config['myaws']['user']\n",
    "pwd = config['myaws']['pwd']\n",
    "\n",
    "conn = psycopg2.connect(  host=host,\n",
    "                       user=user,\n",
    "                       password = pwd,\n",
    "                       dbname=db)"
   ]
  },
  {
   "cell_type": "code",
   "execution_count": 5,
   "id": "6d8f9771",
   "metadata": {},
   "outputs": [],
   "source": [
    "cur=conn.cursor()"
   ]
  },
  {
   "cell_type": "markdown",
   "id": "856fdb26",
   "metadata": {},
   "source": [
    "# q1"
   ]
  },
  {
   "cell_type": "code",
   "execution_count": 6,
   "id": "36e2c0aa",
   "metadata": {},
   "outputs": [
    {
     "data": {
      "text/html": [
       "<div>\n",
       "<style scoped>\n",
       "    .dataframe tbody tr th:only-of-type {\n",
       "        vertical-align: middle;\n",
       "    }\n",
       "\n",
       "    .dataframe tbody tr th {\n",
       "        vertical-align: top;\n",
       "    }\n",
       "\n",
       "    .dataframe thead th {\n",
       "        text-align: right;\n",
       "    }\n",
       "</style>\n",
       "<table border=\"1\" class=\"dataframe\">\n",
       "  <thead>\n",
       "    <tr style=\"text-align: right;\">\n",
       "      <th></th>\n",
       "      <th>stu_email</th>\n",
       "      <th>stu_name</th>\n",
       "      <th>major</th>\n",
       "    </tr>\n",
       "  </thead>\n",
       "  <tbody>\n",
       "    <tr>\n",
       "      <th>0</th>\n",
       "      <td>osoriojt@jmu.edu</td>\n",
       "      <td>Julian Osorio</td>\n",
       "      <td>IA</td>\n",
       "    </tr>\n",
       "    <tr>\n",
       "      <th>1</th>\n",
       "      <td>henriquesta@jmu.edu</td>\n",
       "      <td>Tayler Henriques</td>\n",
       "      <td>IA</td>\n",
       "    </tr>\n",
       "    <tr>\n",
       "      <th>2</th>\n",
       "      <td>perezst@jmu.edu</td>\n",
       "      <td>Spencer Perez</td>\n",
       "      <td>SRM</td>\n",
       "    </tr>\n",
       "    <tr>\n",
       "      <th>3</th>\n",
       "      <td>conrowrc@jmu.edu</td>\n",
       "      <td>Ryan Conrow</td>\n",
       "      <td>SRM</td>\n",
       "    </tr>\n",
       "    <tr>\n",
       "      <th>4</th>\n",
       "      <td>s6@jmu.edu</td>\n",
       "      <td>s5</td>\n",
       "      <td>ia</td>\n",
       "    </tr>\n",
       "  </tbody>\n",
       "</table>\n",
       "</div>"
      ],
      "text/plain": [
       "             stu_email          stu_name major\n",
       "0     osoriojt@jmu.edu     Julian Osorio    IA\n",
       "1  henriquesta@jmu.edu  Tayler Henriques    IA\n",
       "2      perezst@jmu.edu     Spencer Perez   SRM\n",
       "3     conrowrc@jmu.edu       Ryan Conrow   SRM\n",
       "4           s6@jmu.edu                s5    ia"
      ]
     },
     "execution_count": 6,
     "metadata": {},
     "output_type": "execute_result"
    }
   ],
   "source": [
    "df_student=pandas.read_sql_query('select * from gp18.student',conn)\n",
    "df_student[:]\n"
   ]
  },
  {
   "cell_type": "markdown",
   "id": "930e8091",
   "metadata": {},
   "source": [
    "# q2"
   ]
  },
  {
   "cell_type": "code",
   "execution_count": 7,
   "id": "d0fdb433",
   "metadata": {},
   "outputs": [],
   "source": [
    "sql_statement = \"\"\"select gp18.professor.prof_name,\n",
    "            gp18.course.course_name\n",
    "        from gp18.professor\n",
    "        inner join gp18.course\n",
    "        on gp18.professor.prof_email = gp18.course.prof_email\"\"\""
   ]
  },
  {
   "cell_type": "code",
   "execution_count": 8,
   "id": "f7d30a89",
   "metadata": {},
   "outputs": [
    {
     "data": {
      "text/html": [
       "<div>\n",
       "<style scoped>\n",
       "    .dataframe tbody tr th:only-of-type {\n",
       "        vertical-align: middle;\n",
       "    }\n",
       "\n",
       "    .dataframe tbody tr th {\n",
       "        vertical-align: top;\n",
       "    }\n",
       "\n",
       "    .dataframe thead th {\n",
       "        text-align: right;\n",
       "    }\n",
       "</style>\n",
       "<table border=\"1\" class=\"dataframe\">\n",
       "  <thead>\n",
       "    <tr style=\"text-align: right;\">\n",
       "      <th></th>\n",
       "      <th>prof_email</th>\n",
       "      <th>prof_name</th>\n",
       "      <th>office</th>\n",
       "    </tr>\n",
       "  </thead>\n",
       "  <tbody>\n",
       "    <tr>\n",
       "      <th>0</th>\n",
       "      <td>danzelox@jmu.edu</td>\n",
       "      <td>Orlandrew Danzell</td>\n",
       "      <td>isat/cs107</td>\n",
       "    </tr>\n",
       "    <tr>\n",
       "      <th>1</th>\n",
       "      <td>hendinx@jmu.edu</td>\n",
       "      <td>Noel Hendrickson</td>\n",
       "      <td>isat/cs322</td>\n",
       "    </tr>\n",
       "    <tr>\n",
       "      <th>2</th>\n",
       "      <td>marrinsp@jmu.edu</td>\n",
       "      <td>Stephen Marrin</td>\n",
       "      <td>engeo2140</td>\n",
       "    </tr>\n",
       "    <tr>\n",
       "      <th>3</th>\n",
       "      <td>new_prof_email</td>\n",
       "      <td>new_prof_name</td>\n",
       "      <td>new_office</td>\n",
       "    </tr>\n",
       "  </tbody>\n",
       "</table>\n",
       "</div>"
      ],
      "text/plain": [
       "         prof_email          prof_name      office\n",
       "0  danzelox@jmu.edu  Orlandrew Danzell  isat/cs107\n",
       "1   hendinx@jmu.edu   Noel Hendrickson  isat/cs322\n",
       "2  marrinsp@jmu.edu     Stephen Marrin   engeo2140\n",
       "3    new_prof_email      new_prof_name  new_office"
      ]
     },
     "execution_count": 8,
     "metadata": {},
     "output_type": "execute_result"
    }
   ],
   "source": [
    "df_student=pandas.read_sql_query('select * from gp18.professor',conn)\n",
    "df_student[:]"
   ]
  },
  {
   "cell_type": "markdown",
   "id": "17de6e58",
   "metadata": {},
   "source": [
    "# q3"
   ]
  },
  {
   "cell_type": "code",
   "execution_count": 9,
   "id": "9a5cb016",
   "metadata": {},
   "outputs": [],
   "source": [
    "sql_q3= \"\"\"select course_num,\n",
    "                count(course_num) as enrolled\n",
    "                from gp18.enrollment_list\n",
    "                group by course_num\n",
    "                order by enrolled desc\n",
    "                \"\"\""
   ]
  },
  {
   "cell_type": "code",
   "execution_count": 10,
   "id": "b515c2c8",
   "metadata": {},
   "outputs": [
    {
     "data": {
      "text/plain": [
       "<AxesSubplot:xlabel='course_num'>"
      ]
     },
     "execution_count": 10,
     "metadata": {},
     "output_type": "execute_result"
    },
    {
     "data": {
      "image/png": "[encoded data removed]",
      "text/plain": [
       "<Figure size 432x288 with 1 Axes>"
      ]
     },
     "metadata": {
      "needs_background": "light"
     },
     "output_type": "display_data"
    }
   ],
   "source": [
    "df=pandas.read_sql_query(sql_q3,conn)\n",
    "\n",
    "df.plot.bar(y='enrolled',x='course_num')"
   ]
  },
  {
   "cell_type": "markdown",
   "id": "28fa9495",
   "metadata": {},
   "source": [
    "# q4"
   ]
  },
  {
   "cell_type": "code",
   "execution_count": 11,
   "id": "e0fbdff0",
   "metadata": {},
   "outputs": [],
   "source": [
    "sql_q4 = \"\"\"select gp18.professor.prof_name,\n",
    "        count(gp18.course.course_name) as course_num\n",
    "        from gp18.professor\n",
    "        inner join gp18.course\n",
    "        on gp18.professor.prof_email = gp18.course.prof_email\n",
    "        group by professor.prof_name\n",
    "        order by course_num desc\"\"\""
   ]
  },
  {
   "cell_type": "code",
   "execution_count": 12,
   "id": "c32727f5",
   "metadata": {},
   "outputs": [
    {
     "data": {
      "text/html": [
       "<div>\n",
       "<style scoped>\n",
       "    .dataframe tbody tr th:only-of-type {\n",
       "        vertical-align: middle;\n",
       "    }\n",
       "\n",
       "    .dataframe tbody tr th {\n",
       "        vertical-align: top;\n",
       "    }\n",
       "\n",
       "    .dataframe thead th {\n",
       "        text-align: right;\n",
       "    }\n",
       "</style>\n",
       "<table border=\"1\" class=\"dataframe\">\n",
       "  <thead>\n",
       "    <tr style=\"text-align: right;\">\n",
       "      <th></th>\n",
       "      <th>prof_name</th>\n",
       "      <th>course_num</th>\n",
       "    </tr>\n",
       "  </thead>\n",
       "  <tbody>\n",
       "    <tr>\n",
       "      <th>0</th>\n",
       "      <td>new_prof_name</td>\n",
       "      <td>2</td>\n",
       "    </tr>\n",
       "    <tr>\n",
       "      <th>1</th>\n",
       "      <td>Noel Hendrickson</td>\n",
       "      <td>1</td>\n",
       "    </tr>\n",
       "    <tr>\n",
       "      <th>2</th>\n",
       "      <td>Stephen Marrin</td>\n",
       "      <td>1</td>\n",
       "    </tr>\n",
       "    <tr>\n",
       "      <th>3</th>\n",
       "      <td>Orlandrew Danzell</td>\n",
       "      <td>1</td>\n",
       "    </tr>\n",
       "  </tbody>\n",
       "</table>\n",
       "</div>"
      ],
      "text/plain": [
       "           prof_name  course_num\n",
       "0      new_prof_name           2\n",
       "1   Noel Hendrickson           1\n",
       "2     Stephen Marrin           1\n",
       "3  Orlandrew Danzell           1"
      ]
     },
     "execution_count": 12,
     "metadata": {},
     "output_type": "execute_result"
    }
   ],
   "source": [
    "df= pandas.read_sql_query(sql_q4,conn)\n",
    "\n",
    "df[:]"
   ]
  },
  {
   "cell_type": "code",
   "execution_count": 14,
   "id": "7ffb2927",
   "metadata": {},
   "outputs": [
    {
     "data": {
      "text/plain": [
       "<AxesSubplot:xlabel='prof_name'>"
      ]
     },
     "execution_count": 14,
     "metadata": {},
     "output_type": "execute_result"
    },
    {
     "data": {
      "image/png": "[encoded data removed]",
      "text/plain": [
       "<Figure size 432x288 with 1 Axes>"
      ]
     },
     "metadata": {
      "needs_background": "light"
     },
     "output_type": "display_data"
    }
   ],
   "source": [
    "df.plot.bar(x='prof_name',y='course_num')"
   ]
  },
  {
   "cell_type": "markdown",
   "id": "c8cb1984",
   "metadata": {},
   "source": [
    "# q5"
   ]
  },
  {
   "cell_type": "code",
   "execution_count": 15,
   "id": "0e544898",
   "metadata": {},
   "outputs": [
    {
     "name": "stdout",
     "output_type": "stream",
     "text": [
      "\n",
      "            insert into gp18.professor(prof_email,prof_name,office)\n",
      "            values('new_lab4_email','new_p_lab4_name','new_lab4_o')\n",
      "            \n"
     ]
    }
   ],
   "source": [
    "q5_insert_professor_sql = \"\"\"\n",
    "            insert into gp18.professor(prof_email,prof_name,office)\n",
    "            values('{}','{}','{}')\n",
    "            \"\"\".format('new_lab4_email','new_p_lab4_name','new_lab4_o')\n",
    "print(q5_insert_professor_sql)"
   ]
  },
  {
   "cell_type": "code",
   "execution_count": 16,
   "id": "f96c5e97",
   "metadata": {},
   "outputs": [],
   "source": [
    "cur.execute(q5_insert_professor_sql)"
   ]
  },
  {
   "cell_type": "code",
   "execution_count": 17,
   "id": "b0b5931d",
   "metadata": {},
   "outputs": [],
   "source": [
    "# conn.rollback() #if error, rollback"
   ]
  },
  {
   "cell_type": "code",
   "execution_count": 19,
   "id": "08a5ba22",
   "metadata": {},
   "outputs": [],
   "source": [
    "conn.commit() # no error. commit"
   ]
  },
  {
   "cell_type": "code",
   "execution_count": 20,
   "id": "118862f5",
   "metadata": {},
   "outputs": [
    {
     "data": {
      "text/html": [
       "<div>\n",
       "<style scoped>\n",
       "    .dataframe tbody tr th:only-of-type {\n",
       "        vertical-align: middle;\n",
       "    }\n",
       "\n",
       "    .dataframe tbody tr th {\n",
       "        vertical-align: top;\n",
       "    }\n",
       "\n",
       "    .dataframe thead th {\n",
       "        text-align: right;\n",
       "    }\n",
       "</style>\n",
       "<table border=\"1\" class=\"dataframe\">\n",
       "  <thead>\n",
       "    <tr style=\"text-align: right;\">\n",
       "      <th></th>\n",
       "      <th>prof_email</th>\n",
       "      <th>prof_name</th>\n",
       "      <th>office</th>\n",
       "    </tr>\n",
       "  </thead>\n",
       "  <tbody>\n",
       "    <tr>\n",
       "      <th>0</th>\n",
       "      <td>danzelox@jmu.edu</td>\n",
       "      <td>Orlandrew Danzell</td>\n",
       "      <td>isat/cs107</td>\n",
       "    </tr>\n",
       "    <tr>\n",
       "      <th>1</th>\n",
       "      <td>hendinx@jmu.edu</td>\n",
       "      <td>Noel Hendrickson</td>\n",
       "      <td>isat/cs322</td>\n",
       "    </tr>\n",
       "    <tr>\n",
       "      <th>2</th>\n",
       "      <td>marrinsp@jmu.edu</td>\n",
       "      <td>Stephen Marrin</td>\n",
       "      <td>engeo2140</td>\n",
       "    </tr>\n",
       "    <tr>\n",
       "      <th>3</th>\n",
       "      <td>new_prof_email</td>\n",
       "      <td>new_prof_name</td>\n",
       "      <td>new_office</td>\n",
       "    </tr>\n",
       "    <tr>\n",
       "      <th>4</th>\n",
       "      <td>new_lab4_email</td>\n",
       "      <td>new_p_lab4_name</td>\n",
       "      <td>new_lab4_o</td>\n",
       "    </tr>\n",
       "  </tbody>\n",
       "</table>\n",
       "</div>"
      ],
      "text/plain": [
       "         prof_email          prof_name      office\n",
       "0  danzelox@jmu.edu  Orlandrew Danzell  isat/cs107\n",
       "1   hendinx@jmu.edu   Noel Hendrickson  isat/cs322\n",
       "2  marrinsp@jmu.edu     Stephen Marrin   engeo2140\n",
       "3    new_prof_email      new_prof_name  new_office\n",
       "4    new_lab4_email    new_p_lab4_name  new_lab4_o"
      ]
     },
     "execution_count": 20,
     "metadata": {},
     "output_type": "execute_result"
    }
   ],
   "source": [
    "df=pandas.read_sql_query('select * from gp18.professor',conn)\n",
    "df[:]"
   ]
  },
  {
   "cell_type": "code",
   "execution_count": 49,
   "id": "8243167c",
   "metadata": {},
   "outputs": [
    {
     "name": "stdout",
     "output_type": "stream",
     "text": [
      "\n",
      "            insert into gp18.course(course_num,course_name,room_num,prof_email)\n",
      "            values('new_lab4_c','new_lab4_num','new_lab4_r','new_lab4_email')\n",
      "            \n"
     ]
    }
   ],
   "source": [
    "q5_insert_course_sql = \"\"\"\n",
    "            insert into gp18.course(course_num,course_name,room_num,prof_email)\n",
    "            values('{}','{}','{}','{}')\n",
    "            \"\"\".format('new_lab4_c','new_lab4_num','new_lab4_r','new_lab4_email')\n",
    "print(q5_insert_course_sql)"
   ]
  },
  {
   "cell_type": "code",
   "execution_count": null,
   "id": "4f8e2399",
   "metadata": {},
   "outputs": [],
   "source": []
  },
  {
   "cell_type": "code",
   "execution_count": 46,
   "id": "5b5f37f2",
   "metadata": {},
   "outputs": [],
   "source": [
    "conn.commit() # no error. commit"
   ]
  },
  {
   "cell_type": "code",
   "execution_count": 47,
   "id": "6f365f05",
   "metadata": {},
   "outputs": [
    {
     "data": {
      "text/html": [
       "<div>\n",
       "<style scoped>\n",
       "    .dataframe tbody tr th:only-of-type {\n",
       "        vertical-align: middle;\n",
       "    }\n",
       "\n",
       "    .dataframe tbody tr th {\n",
       "        vertical-align: top;\n",
       "    }\n",
       "\n",
       "    .dataframe thead th {\n",
       "        text-align: right;\n",
       "    }\n",
       "</style>\n",
       "<table border=\"1\" class=\"dataframe\">\n",
       "  <thead>\n",
       "    <tr style=\"text-align: right;\">\n",
       "      <th></th>\n",
       "      <th>course_num</th>\n",
       "      <th>course_name</th>\n",
       "      <th>room_num</th>\n",
       "      <th>prof_email</th>\n",
       "    </tr>\n",
       "  </thead>\n",
       "  <tbody>\n",
       "    <tr>\n",
       "      <th>0</th>\n",
       "      <td>IA 480</td>\n",
       "      <td>AML</td>\n",
       "      <td>isat0148</td>\n",
       "      <td>danzelox@jmu.edu</td>\n",
       "    </tr>\n",
       "    <tr>\n",
       "      <th>1</th>\n",
       "      <td>IA 300</td>\n",
       "      <td>Seminar on Issues</td>\n",
       "      <td>isat150</td>\n",
       "      <td>marrinsp@jmu.edu</td>\n",
       "    </tr>\n",
       "    <tr>\n",
       "      <th>2</th>\n",
       "      <td>IA 313</td>\n",
       "      <td>Counterfact Reason</td>\n",
       "      <td>engeo1204</td>\n",
       "      <td>hendinx@jmu.edu</td>\n",
       "    </tr>\n",
       "    <tr>\n",
       "      <th>3</th>\n",
       "      <td>new_c_num</td>\n",
       "      <td>new_course_name</td>\n",
       "      <td>new_room</td>\n",
       "      <td>new_prof_email</td>\n",
       "    </tr>\n",
       "    <tr>\n",
       "      <th>4</th>\n",
       "      <td>IA 340</td>\n",
       "      <td>Data Mining</td>\n",
       "      <td>engeo2010</td>\n",
       "      <td>new_prof_email</td>\n",
       "    </tr>\n",
       "    <tr>\n",
       "      <th>5</th>\n",
       "      <td>new_lab4_c</td>\n",
       "      <td>new_lab4_n</td>\n",
       "      <td>new_lab4_r</td>\n",
       "      <td>new_lab4_email</td>\n",
       "    </tr>\n",
       "  </tbody>\n",
       "</table>\n",
       "</div>"
      ],
      "text/plain": [
       "   course_num         course_name    room_num        prof_email\n",
       "0      IA 480                 AML    isat0148  danzelox@jmu.edu\n",
       "1      IA 300   Seminar on Issues     isat150  marrinsp@jmu.edu\n",
       "2      IA 313  Counterfact Reason   engeo1204   hendinx@jmu.edu\n",
       "3   new_c_num     new_course_name    new_room    new_prof_email\n",
       "4      IA 340         Data Mining   engeo2010    new_prof_email\n",
       "5  new_lab4_c          new_lab4_n  new_lab4_r    new_lab4_email"
      ]
     },
     "execution_count": 47,
     "metadata": {},
     "output_type": "execute_result"
    }
   ],
   "source": [
    "df=pandas.read_sql_query('select * from gp18.course',conn)\n",
    "df[:]"
   ]
  },
  {
   "cell_type": "markdown",
   "id": "882ded54",
   "metadata": {},
   "source": [
    "# q6"
   ]
  },
  {
   "cell_type": "code",
   "execution_count": 64,
   "id": "ebc3f80c",
   "metadata": {},
   "outputs": [],
   "source": [
    "q6_update_course_sql =\"\"\"\n",
    "                    update gp18.course\n",
    "                    set prof_email = '{}'\n",
    "                    where prof_email ='{}'\n",
    "                    \"\"\".format('new_lab4_email','t2@jmu.edu')"
   ]
  },
  {
   "cell_type": "code",
   "execution_count": 65,
   "id": "072c22f7",
   "metadata": {},
   "outputs": [],
   "source": [
    "cur.execute(q6_update_course_sql)"
   ]
  },
  {
   "cell_type": "code",
   "execution_count": 66,
   "id": "ad3f118d",
   "metadata": {},
   "outputs": [],
   "source": [
    "conn.commit() # no error. commit"
   ]
  },
  {
   "cell_type": "code",
   "execution_count": 68,
   "id": "90e7f5de",
   "metadata": {},
   "outputs": [
    {
     "data": {
      "text/html": [
       "<div>\n",
       "<style scoped>\n",
       "    .dataframe tbody tr th:only-of-type {\n",
       "        vertical-align: middle;\n",
       "    }\n",
       "\n",
       "    .dataframe tbody tr th {\n",
       "        vertical-align: top;\n",
       "    }\n",
       "\n",
       "    .dataframe thead th {\n",
       "        text-align: right;\n",
       "    }\n",
       "</style>\n",
       "<table border=\"1\" class=\"dataframe\">\n",
       "  <thead>\n",
       "    <tr style=\"text-align: right;\">\n",
       "      <th></th>\n",
       "      <th>course_num</th>\n",
       "      <th>course_name</th>\n",
       "      <th>room_num</th>\n",
       "      <th>prof_email</th>\n",
       "    </tr>\n",
       "  </thead>\n",
       "  <tbody>\n",
       "    <tr>\n",
       "      <th>0</th>\n",
       "      <td>IA 480</td>\n",
       "      <td>AML</td>\n",
       "      <td>isat0148</td>\n",
       "      <td>danzelox@jmu.edu</td>\n",
       "    </tr>\n",
       "    <tr>\n",
       "      <th>1</th>\n",
       "      <td>IA 300</td>\n",
       "      <td>Seminar on Issues</td>\n",
       "      <td>isat150</td>\n",
       "      <td>marrinsp@jmu.edu</td>\n",
       "    </tr>\n",
       "    <tr>\n",
       "      <th>2</th>\n",
       "      <td>IA 313</td>\n",
       "      <td>Counterfact Reason</td>\n",
       "      <td>engeo1204</td>\n",
       "      <td>hendinx@jmu.edu</td>\n",
       "    </tr>\n",
       "    <tr>\n",
       "      <th>3</th>\n",
       "      <td>new_c_num</td>\n",
       "      <td>new_course_name</td>\n",
       "      <td>new_room</td>\n",
       "      <td>new_prof_email</td>\n",
       "    </tr>\n",
       "    <tr>\n",
       "      <th>4</th>\n",
       "      <td>IA 340</td>\n",
       "      <td>Data Mining</td>\n",
       "      <td>engeo2010</td>\n",
       "      <td>new_prof_email</td>\n",
       "    </tr>\n",
       "    <tr>\n",
       "      <th>5</th>\n",
       "      <td>new_lab4_c</td>\n",
       "      <td>new_lab4_n</td>\n",
       "      <td>new_lab4_r</td>\n",
       "      <td>new_lab4_email</td>\n",
       "    </tr>\n",
       "  </tbody>\n",
       "</table>\n",
       "</div>"
      ],
      "text/plain": [
       "   course_num         course_name    room_num        prof_email\n",
       "0      IA 480                 AML    isat0148  danzelox@jmu.edu\n",
       "1      IA 300   Seminar on Issues     isat150  marrinsp@jmu.edu\n",
       "2      IA 313  Counterfact Reason   engeo1204   hendinx@jmu.edu\n",
       "3   new_c_num     new_course_name    new_room    new_prof_email\n",
       "4      IA 340         Data Mining   engeo2010    new_prof_email\n",
       "5  new_lab4_c          new_lab4_n  new_lab4_r    new_lab4_email"
      ]
     },
     "execution_count": 68,
     "metadata": {},
     "output_type": "execute_result"
    }
   ],
   "source": [
    "df=pandas.read_sql_query('select * from gp18.course',conn)\n",
    "df[:]"
   ]
  },
  {
   "cell_type": "code",
   "execution_count": 69,
   "id": "0d1fe5fd",
   "metadata": {},
   "outputs": [],
   "source": [
    "q6_delete_professor_sql = \"\"\"\n",
    "                            delete from gp18.professor\n",
    "                            where prof_email='{}'\n",
    "                            \"\"\".format('t2@jmu.edu')"
   ]
  },
  {
   "cell_type": "code",
   "execution_count": 70,
   "id": "becaf452",
   "metadata": {},
   "outputs": [],
   "source": [
    "cur.execute(q6_delete_professor_sql)"
   ]
  },
  {
   "cell_type": "code",
   "execution_count": 71,
   "id": "982fb579",
   "metadata": {},
   "outputs": [],
   "source": [
    "conn.commit() # no error. commit"
   ]
  },
  {
   "cell_type": "code",
   "execution_count": 72,
   "id": "46369121",
   "metadata": {},
   "outputs": [
    {
     "data": {
      "text/html": [
       "<div>\n",
       "<style scoped>\n",
       "    .dataframe tbody tr th:only-of-type {\n",
       "        vertical-align: middle;\n",
       "    }\n",
       "\n",
       "    .dataframe tbody tr th {\n",
       "        vertical-align: top;\n",
       "    }\n",
       "\n",
       "    .dataframe thead th {\n",
       "        text-align: right;\n",
       "    }\n",
       "</style>\n",
       "<table border=\"1\" class=\"dataframe\">\n",
       "  <thead>\n",
       "    <tr style=\"text-align: right;\">\n",
       "      <th></th>\n",
       "      <th>prof_email</th>\n",
       "      <th>prof_name</th>\n",
       "      <th>office</th>\n",
       "    </tr>\n",
       "  </thead>\n",
       "  <tbody>\n",
       "    <tr>\n",
       "      <th>0</th>\n",
       "      <td>danzelox@jmu.edu</td>\n",
       "      <td>Orlandrew Danzell</td>\n",
       "      <td>isat/cs107</td>\n",
       "    </tr>\n",
       "    <tr>\n",
       "      <th>1</th>\n",
       "      <td>hendinx@jmu.edu</td>\n",
       "      <td>Noel Hendrickson</td>\n",
       "      <td>isat/cs322</td>\n",
       "    </tr>\n",
       "    <tr>\n",
       "      <th>2</th>\n",
       "      <td>marrinsp@jmu.edu</td>\n",
       "      <td>Stephen Marrin</td>\n",
       "      <td>engeo2140</td>\n",
       "    </tr>\n",
       "    <tr>\n",
       "      <th>3</th>\n",
       "      <td>new_prof_email</td>\n",
       "      <td>new_prof_name</td>\n",
       "      <td>new_office</td>\n",
       "    </tr>\n",
       "    <tr>\n",
       "      <th>4</th>\n",
       "      <td>new_lab4_email</td>\n",
       "      <td>new_p_lab4_name</td>\n",
       "      <td>new_lab4_o</td>\n",
       "    </tr>\n",
       "  </tbody>\n",
       "</table>\n",
       "</div>"
      ],
      "text/plain": [
       "         prof_email          prof_name      office\n",
       "0  danzelox@jmu.edu  Orlandrew Danzell  isat/cs107\n",
       "1   hendinx@jmu.edu   Noel Hendrickson  isat/cs322\n",
       "2  marrinsp@jmu.edu     Stephen Marrin   engeo2140\n",
       "3    new_prof_email      new_prof_name  new_office\n",
       "4    new_lab4_email    new_p_lab4_name  new_lab4_o"
      ]
     },
     "execution_count": 72,
     "metadata": {},
     "output_type": "execute_result"
    }
   ],
   "source": [
    "\n",
    "df=pandas.read_sql_query('select * from gp18.professor',conn)\n",
    "df[:]"
   ]
  },
  {
   "cell_type": "code",
   "execution_count": 73,
   "id": "380665e2",
   "metadata": {},
   "outputs": [],
   "source": [
    "cur.close()\n",
    "conn.close()"
   ]
  },
  {
   "cell_type": "code",
   "execution_count": null,
   "id": "f7da6999",
   "metadata": {},
   "outputs": [],
   "source": []
  }
 ],
 "metadata": {
  "kernelspec": {
   "display_name": "conda_python3",
   "language": "python",
   "name": "conda_python3"
  },
  "language_info": {
   "codemirror_mode": {
    "name": "ipython",
    "version": 3
   },
   "file_extension": ".py",
   "mimetype": "text/x-python",
   "name": "python",
   "nbconvert_exporter": "python",
   "pygments_lexer": "ipython3",
   "version": "3.6.13"
  }
 },
 "nbformat": 4,
 "nbformat_minor": 5
}
